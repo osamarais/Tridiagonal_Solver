{
 "cells": [
  {
   "cell_type": "code",
   "execution_count": null,
   "id": "155843fc",
   "metadata": {},
   "outputs": [],
   "source": [
    "# Use the entire width of the screen if needed\n",
    "from IPython.core.display import display, HTML\n",
    "display(HTML(\"<style>.container { width:100% !important; }</style>\"))"
   ]
  },
  {
   "cell_type": "code",
   "execution_count": 64,
   "id": "070e99be",
   "metadata": {},
   "outputs": [
    {
     "name": "stdout",
     "output_type": "stream",
     "text": [
      "[[2. 1. 0. 0. 0. 0. 0. 0. 0. 0. 0. 0. 0. 0. 0. 0.]\n",
      " [1. 2. 1. 0. 0. 0. 0. 0. 0. 0. 0. 0. 0. 0. 0. 0.]\n",
      " [0. 1. 2. 1. 0. 0. 0. 0. 0. 0. 0. 0. 0. 0. 0. 0.]\n",
      " [0. 0. 1. 2. 1. 0. 0. 0. 0. 0. 0. 0. 0. 0. 0. 0.]\n",
      " [0. 0. 0. 1. 2. 1. 0. 0. 0. 0. 0. 0. 0. 0. 0. 0.]\n",
      " [0. 0. 0. 0. 1. 2. 1. 0. 0. 0. 0. 0. 0. 0. 0. 0.]\n",
      " [0. 0. 0. 0. 0. 1. 2. 1. 0. 0. 0. 0. 0. 0. 0. 0.]\n",
      " [0. 0. 0. 0. 0. 0. 1. 2. 1. 0. 0. 0. 0. 0. 0. 0.]\n",
      " [0. 0. 0. 0. 0. 0. 0. 1. 2. 1. 0. 0. 0. 0. 0. 0.]\n",
      " [0. 0. 0. 0. 0. 0. 0. 0. 1. 2. 1. 0. 0. 0. 0. 0.]\n",
      " [0. 0. 0. 0. 0. 0. 0. 0. 0. 1. 2. 1. 0. 0. 0. 0.]\n",
      " [0. 0. 0. 0. 0. 0. 0. 0. 0. 0. 1. 2. 1. 0. 0. 0.]\n",
      " [0. 0. 0. 0. 0. 0. 0. 0. 0. 0. 0. 1. 2. 1. 0. 0.]\n",
      " [0. 0. 0. 0. 0. 0. 0. 0. 0. 0. 0. 0. 1. 2. 1. 0.]\n",
      " [0. 0. 0. 0. 0. 0. 0. 0. 0. 0. 0. 0. 0. 1. 2. 1.]\n",
      " [0. 0. 0. 0. 0. 0. 0. 0. 0. 0. 0. 0. 0. 0. 1. 2.]]\n",
      "maximum: 3.965946199367801\n",
      "minimum: 0.03405380063219667\n",
      "kappa: 116.4611915774869\n"
     ]
    }
   ],
   "source": [
    "import warnings\n",
    "warnings.filterwarnings('ignore')\n",
    "\n",
    "\n",
    "\n",
    "# Reset the kernel if needed\n",
    "\n",
    "%reset -f\n",
    "\n",
    "# import the relevant libraries etc.\n",
    "# set up the environment\n",
    "\n",
    "from qiskit import *\n",
    "import numpy as np\n",
    "\n",
    "\n",
    "%matplotlib inline\n",
    "\n",
    "\n",
    "\n",
    "# Define the problem (the tridiagonal matrix that we are interested in solving)\n",
    "\n",
    "a = 2\n",
    "b = 1\n",
    "\n",
    "# Problem size\n",
    "n_w = 4\n",
    "N_w = 2**n_w\n",
    "\n",
    "# make the tridiagonal matrix in classical form\n",
    "classical_matrix = np.zeros((N_w,N_w))\n",
    "\n",
    "\n",
    "for _i in range(N_w):\n",
    "    for _j in range(N_w):\n",
    "        if _i==_j:\n",
    "            classical_matrix[_i,_j]=a\n",
    "        if abs(_i-_j)==1:\n",
    "            classical_matrix[_i,_j]=b\n",
    "\n",
    "print(np.around(classical_matrix,5))\n",
    "\n",
    "eigenvalues = np.linalg.eigvals(classical_matrix)\n",
    "\n",
    "print('maximum: {}\\nminimum: {}\\nkappa: {}'.format(np.max(eigenvalues),np.min(eigenvalues),np.abs(np.max(eigenvalues)/np.min(eigenvalues))))\n",
    "\n",
    "# Define the eigenvalue register\n",
    "n_l = 4\n",
    "\n",
    "# Define the Trotterization\n",
    "m = 10\n",
    "# The order of the Trotter formula that we are using (shoot for the moon)\n",
    "\n",
    "# Define the time; this depends on the spectrum and size of the clock register\n",
    "#t = 0.95*np.pi/(max(abs(eigenvalues)))\n",
    "t = 1\n",
    "\n",
    "# Define the registers for the problem\n",
    "work_register = QuantumRegister(n_w,name='work')\n",
    "clock_register = QuantumRegister(n_l,name='clock')\n",
    "ancilla = AncillaRegister(1,name='controlled_rotation')\n",
    "\n"
   ]
  },
  {
   "cell_type": "code",
   "execution_count": 65,
   "id": "c638a938",
   "metadata": {},
   "outputs": [],
   "source": [
    "# Make a functions that return the different pieces of the hamiltonian (exponentiated) with the required amount\n",
    "# of Hamiltonian simulation (requested t)\n",
    "\n",
    "def H1(a,b,t,work_register,n_w):\n",
    "    H1_circuit = QuantumCircuit(work_register,name='H1')\n",
    "    H1_circuit.x(n_w-1)\n",
    "    H1_circuit.p(a*t,n_w-1)\n",
    "    H1_circuit.x(n_w-1)\n",
    "    H1_circuit.p(a*t,n_w-1)\n",
    "    H1_circuit.draw(output='mpl')\n",
    "    return H1_circuit\n",
    "\n",
    "\n",
    "def H2(a,b,t,work_register,n_w):\n",
    "    H2_circuit = QuantumCircuit(work_register,name='H2')\n",
    "    H2_circuit.rx(-2*b*t,n_w-1)\n",
    "    H2_circuit.draw(output='mpl')\n",
    "    return H2_circuit\n",
    "\n",
    "\n",
    "def H3(a,b,t,work_register,n_w):\n",
    "    H3_circuit = QuantumCircuit(work_register,name='H3')\n",
    "    \n",
    "    # H3 is made up of a bunch of C circuits\n",
    "    C_circuits = []\n",
    "    \n",
    "    # We need to make a multi-controlled RX gate for each C\n",
    "    from qiskit.circuit.library.standard_gates import RXGate\n",
    "    from qiskit.circuit.library.standard_gates import RYGate\n",
    "    \n",
    "    for _C in range(1,n_w):\n",
    "        _C_circuit = QuantumCircuit(work_register[-1-_C:],name='C{}'.format(_C))\n",
    "        _C_circuit.cnot(1,0,ctrl_state=1)\n",
    "        for _target in range(2,_C+1):\n",
    "            _C_circuit.cnot(1,_target,ctrl_state=0)\n",
    "        # Create the multi controlled Rx gate\n",
    "        #if (_C-2)>=1:\n",
    "        #    _rx_gate = RXGate(-2*b*dt).control(_C-2)\n",
    "        #    _C_circuit.append(_rx_gate,[])\n",
    "        _rx_gate = RXGate(-2*b*t).control(_C)\n",
    "        _controls_targets = [_x for _x in range(_C+1) if _x != 1]\n",
    "        _controls_targets.append(1)\n",
    "        _C_circuit.append(_rx_gate,_controls_targets)\n",
    "    \n",
    "\n",
    "        for _target in reversed(range(2,_C+1)):\n",
    "            _C_circuit.cnot(1,_target,ctrl_state=0)\n",
    "        _C_circuit.cnot(1,0,ctrl_state=1)\n",
    "        C_circuits.append(_C_circuit)\n",
    "        \n",
    "    # Append the C circuits to the overall H3 circuit\n",
    "    #H3_circuit.barrier()\n",
    "    for _C in C_circuits:\n",
    "        H3_circuit = H3_circuit + _C\n",
    "        #H3_circuit.barrier()\n",
    "        \n",
    "    return H3_circuit\n",
    "\n"
   ]
  },
  {
   "cell_type": "code",
   "execution_count": 66,
   "id": "7592ebba",
   "metadata": {
    "scrolled": false
   },
   "outputs": [
    {
     "data": {
      "image/png": "[encoded data removed]",
      "text/plain": [
       "<Figure size 364.602x264.88 with 1 Axes>"
      ]
     },
     "execution_count": 66,
     "metadata": {},
     "output_type": "execute_result"
    }
   ],
   "source": [
    "_H1 = H1(a,b,1,work_register,n_w)\n",
    "_H1.draw(output='mpl')"
   ]
  },
  {
   "cell_type": "code",
   "execution_count": 67,
   "id": "56726852",
   "metadata": {
    "scrolled": true
   },
   "outputs": [
    {
     "data": {
      "image/png": "[encoded data removed]",
      "text/plain": [
       "<Figure size 184.002x264.88 with 1 Axes>"
      ]
     },
     "execution_count": 67,
     "metadata": {},
     "output_type": "execute_result"
    }
   ],
   "source": [
    "_H2 = H2(a,b,1,work_register,n_w)\n",
    "_H2.draw(output='mpl')"
   ]
  },
  {
   "cell_type": "code",
   "execution_count": 68,
   "id": "e6ca3eea",
   "metadata": {
    "scrolled": false
   },
   "outputs": [
    {
     "data": {
      "image/png": "[encoded data removed]",
      "text/plain": [
       "<Figure size 1026.8x264.88 with 1 Axes>"
      ]
     },
     "execution_count": 68,
     "metadata": {},
     "output_type": "execute_result"
    }
   ],
   "source": [
    "_H3 = H3(a,b,1,work_register,n_w)\n",
    "_H3.draw(output='mpl')"
   ]
  },
  {
   "cell_type": "code",
   "execution_count": 69,
   "id": "942425d9",
   "metadata": {},
   "outputs": [],
   "source": [
    "# Now we want to combine all the pieces together to make function that will return powers of U\n",
    "# Basically we are going to repeat the circuit to apply the powers (H1 commutes so no need for that part)\n",
    "\n",
    "\n",
    "\n",
    "\n",
    "# # Note: i here is the power of 2 we are raising U to\n",
    "# def U_pow(a,b,t,work_register,n_w,m,power,return_circuit=False):\n",
    "#     U_pow_circuit = QuantumCircuit(work_register,name='U^{}'.format(2**power))\n",
    "#     for _i in range((2**power)*m):\n",
    "#         U_pow_circuit=U_pow_circuit+H1(a,b,t/m,work_register,n_w)\n",
    "#         U_pow_circuit=U_pow_circuit+H2(a,b,t/m,work_register,n_w)\n",
    "#         U_pow_circuit=U_pow_circuit+H3(a,b,t/m,work_register,n_w)\n",
    "#     if not return_circuit:\n",
    "#         return U_pow_circuit.to_gate(label='U^{}'.format(int(np.sign(t))*2**power))\n",
    "#     else:\n",
    "#         return U_pow_circuit\n",
    "\n",
    "\n",
    "def U_pow(a,b,t,work_register,n_w,m,power,return_circuit=False):\n",
    "    U_pow_circuit = QuantumCircuit(work_register,name='U^{}'.format(2**power))\n",
    "    U_pow_circuit = U_pow_circuit+H1(a,b,t*2**power,work_register,n_w)\n",
    "    for _i in range((2**power)*m):\n",
    "        #U_pow_circuit.barrier()\n",
    "        U_pow_circuit=U_pow_circuit+H2(a,b,t/2/m,work_register,n_w)\n",
    "        #U_pow_circuit.barrier()\n",
    "        U_pow_circuit=U_pow_circuit+H3(a,b,t/m  ,work_register,n_w)\n",
    "        #U_pow_circuit.barrier()\n",
    "        U_pow_circuit=U_pow_circuit+H2(a,b,t/2/m,work_register,n_w)\n",
    "        #U_pow_circuit.barrier()\n",
    "    if not return_circuit:\n",
    "        return U_pow_circuit.to_gate(label='U^{}'.format(int(np.sign(t))*2**power))\n",
    "    else:\n",
    "        return U_pow_circuit"
   ]
  },
  {
   "cell_type": "code",
   "execution_count": null,
   "id": "fd724856",
   "metadata": {},
   "outputs": [],
   "source": []
  },
  {
   "cell_type": "code",
   "execution_count": null,
   "id": "32fe8be0",
   "metadata": {},
   "outputs": [],
   "source": []
  },
  {
   "cell_type": "code",
   "execution_count": 83,
   "id": "73cc7f07",
   "metadata": {},
   "outputs": [],
   "source": [
    "power = 0\n",
    "t = 0.1\n",
    "m = 100\n",
    "\n",
    "# Now we want to start testing out the Hamiltonian Simulation portion, whether we are getting the correct\n",
    "# exponentiation of the matrix that we expect\n",
    "U_exp = U_pow(a,b,t,work_register,n_w,m,power,return_circuit=True)\n",
    "\n",
    "#U_exp.draw(output='mpl')\n"
   ]
  },
  {
   "cell_type": "code",
   "execution_count": null,
   "id": "93427056",
   "metadata": {},
   "outputs": [],
   "source": []
  },
  {
   "cell_type": "code",
   "execution_count": 84,
   "id": "a6dc5d6d",
   "metadata": {},
   "outputs": [],
   "source": [
    "\n",
    "simulator = Aer.aer.get_backend(\"unitary_simulator\")\n",
    "unitary = execute(U_exp.reverse_bits(),simulator).result().get_unitary()\n",
    "trotter_solution = unitary.data"
   ]
  },
  {
   "cell_type": "code",
   "execution_count": 85,
   "id": "416382b7",
   "metadata": {},
   "outputs": [],
   "source": [
    "from scipy.linalg import expm\n",
    "i = 0+1j\n",
    "exact_solution = expm(classical_matrix*t*i*2**power)"
   ]
  },
  {
   "cell_type": "code",
   "execution_count": 86,
   "id": "87abbcec",
   "metadata": {
    "scrolled": true
   },
   "outputs": [
    {
     "data": {
      "text/plain": [
       "9.366286005429899e-05"
      ]
     },
     "execution_count": 86,
     "metadata": {},
     "output_type": "execute_result"
    }
   ],
   "source": [
    "np.linalg.norm(trotter_solution-exact_solution,2)"
   ]
  },
  {
   "cell_type": "code",
   "execution_count": 74,
   "id": "cc8c9ae6",
   "metadata": {},
   "outputs": [
    {
     "name": "stdout",
     "output_type": "stream",
     "text": [
      "[[ 0.975+0.198j -0.02 +0.098j -0.005-0.001j  0.   -0.j     0.   +0.j\n",
      "  -0.   +0.j    -0.   -0.j     0.   -0.j     0.   +0.j    -0.   +0.j\n",
      "  -0.   -0.j     0.   -0.j     0.   +0.j    -0.   +0.j    -0.   -0.j\n",
      "   0.   -0.j   ]\n",
      " [-0.02 +0.098j  0.97 +0.197j -0.02 +0.098j -0.005-0.001j  0.   -0.j\n",
      "   0.   +0.j    -0.   +0.j    -0.   -0.j     0.   -0.j     0.   +0.j\n",
      "  -0.   +0.j    -0.   -0.j     0.   -0.j     0.   +0.j    -0.   +0.j\n",
      "  -0.   -0.j   ]\n",
      " [-0.005-0.001j -0.02 +0.098j  0.97 +0.197j -0.02 +0.098j -0.005-0.001j\n",
      "   0.   -0.j     0.   +0.j    -0.   +0.j    -0.   -0.j     0.   -0.j\n",
      "   0.   +0.j    -0.   +0.j    -0.   -0.j     0.   -0.j     0.   +0.j\n",
      "  -0.   +0.j   ]\n",
      " [ 0.   -0.j    -0.005-0.001j -0.02 +0.098j  0.97 +0.197j -0.02 +0.098j\n",
      "  -0.005-0.001j  0.   -0.j     0.   +0.j    -0.   +0.j    -0.   -0.j\n",
      "   0.   -0.j     0.   +0.j    -0.   +0.j    -0.   -0.j     0.   -0.j\n",
      "   0.   +0.j   ]\n",
      " [ 0.   +0.j     0.   -0.j    -0.005-0.001j -0.02 +0.098j  0.97 +0.197j\n",
      "  -0.02 +0.098j -0.005-0.001j  0.   -0.j     0.   +0.j    -0.   +0.j\n",
      "  -0.   -0.j     0.   -0.j     0.   +0.j    -0.   +0.j    -0.   -0.j\n",
      "   0.   -0.j   ]\n",
      " [-0.   +0.j     0.   +0.j     0.   -0.j    -0.005-0.001j -0.02 +0.098j\n",
      "   0.97 +0.197j -0.02 +0.098j -0.005-0.001j  0.   -0.j     0.   +0.j\n",
      "  -0.   +0.j    -0.   -0.j     0.   -0.j     0.   +0.j    -0.   +0.j\n",
      "  -0.   -0.j   ]\n",
      " [-0.   -0.j    -0.   +0.j     0.   +0.j     0.   -0.j    -0.005-0.001j\n",
      "  -0.02 +0.098j  0.97 +0.197j -0.02 +0.098j -0.005-0.001j  0.   -0.j\n",
      "   0.   +0.j    -0.   +0.j    -0.   -0.j     0.   -0.j     0.   +0.j\n",
      "  -0.   +0.j   ]\n",
      " [ 0.   -0.j    -0.   -0.j    -0.   +0.j     0.   +0.j     0.   -0.j\n",
      "  -0.005-0.001j -0.02 +0.098j  0.97 +0.197j -0.02 +0.098j -0.005-0.001j\n",
      "   0.   -0.j     0.   +0.j    -0.   +0.j    -0.   -0.j     0.   -0.j\n",
      "   0.   +0.j   ]\n",
      " [ 0.   +0.j     0.   -0.j    -0.   -0.j    -0.   +0.j     0.   +0.j\n",
      "   0.   -0.j    -0.005-0.001j -0.02 +0.098j  0.97 +0.197j -0.02 +0.098j\n",
      "  -0.005-0.001j  0.   -0.j     0.   +0.j    -0.   +0.j    -0.   -0.j\n",
      "   0.   -0.j   ]\n",
      " [-0.   +0.j     0.   +0.j     0.   -0.j    -0.   -0.j    -0.   +0.j\n",
      "   0.   +0.j     0.   -0.j    -0.005-0.001j -0.02 +0.098j  0.97 +0.197j\n",
      "  -0.02 +0.098j -0.005-0.001j  0.   -0.j     0.   +0.j    -0.   +0.j\n",
      "  -0.   -0.j   ]\n",
      " [-0.   -0.j    -0.   +0.j     0.   +0.j     0.   -0.j    -0.   -0.j\n",
      "  -0.   +0.j     0.   +0.j     0.   -0.j    -0.005-0.001j -0.02 +0.098j\n",
      "   0.97 +0.197j -0.02 +0.098j -0.005-0.001j  0.   -0.j     0.   +0.j\n",
      "  -0.   +0.j   ]\n",
      " [ 0.   -0.j    -0.   -0.j    -0.   +0.j     0.   +0.j     0.   -0.j\n",
      "  -0.   -0.j    -0.   +0.j     0.   +0.j     0.   -0.j    -0.005-0.001j\n",
      "  -0.02 +0.098j  0.97 +0.197j -0.02 +0.098j -0.005-0.001j  0.   -0.j\n",
      "   0.   +0.j   ]\n",
      " [ 0.   +0.j     0.   -0.j    -0.   -0.j    -0.   +0.j     0.   +0.j\n",
      "   0.   -0.j    -0.   -0.j    -0.   +0.j     0.   +0.j     0.   -0.j\n",
      "  -0.005-0.001j -0.02 +0.098j  0.97 +0.197j -0.02 +0.098j -0.005-0.001j\n",
      "   0.   -0.j   ]\n",
      " [-0.   +0.j     0.   +0.j     0.   -0.j    -0.   -0.j    -0.   +0.j\n",
      "   0.   +0.j     0.   -0.j    -0.   -0.j    -0.   +0.j     0.   +0.j\n",
      "   0.   -0.j    -0.005-0.001j -0.02 +0.098j  0.97 +0.197j -0.02 +0.098j\n",
      "  -0.005-0.001j]\n",
      " [-0.   -0.j    -0.   +0.j     0.   +0.j     0.   -0.j    -0.   -0.j\n",
      "  -0.   +0.j     0.   +0.j     0.   -0.j    -0.   -0.j    -0.   +0.j\n",
      "   0.   +0.j     0.   -0.j    -0.005-0.001j -0.02 +0.098j  0.97 +0.197j\n",
      "  -0.02 +0.098j]\n",
      " [ 0.   -0.j    -0.   -0.j    -0.   +0.j     0.   +0.j     0.   -0.j\n",
      "  -0.   -0.j    -0.   +0.j     0.   +0.j     0.   -0.j    -0.   -0.j\n",
      "  -0.   +0.j     0.   +0.j     0.   -0.j    -0.005-0.001j -0.02 +0.098j\n",
      "   0.975+0.198j]]\n"
     ]
    }
   ],
   "source": [
    "print(np.around(exact_solution,3))"
   ]
  },
  {
   "cell_type": "code",
   "execution_count": 75,
   "id": "6b86c254",
   "metadata": {
    "scrolled": true
   },
   "outputs": [
    {
     "name": "stdout",
     "output_type": "stream",
     "text": [
      "[[ 0.975+0.198j -0.02 +0.098j -0.004-0.001j  0.   -0.j     0.   +0.j\n",
      "  -0.   +0.j    -0.   -0.j     0.   -0.j     0.   +0.j    -0.   +0.j\n",
      "  -0.   -0.j     0.   -0.j     0.   -0.j    -0.   -0.j    -0.   +0.j\n",
      "   0.   +0.j   ]\n",
      " [-0.02 +0.098j  0.97 +0.197j -0.02 +0.098j -0.005-0.001j  0.   -0.j\n",
      "   0.   +0.j    -0.   +0.j    -0.   -0.j     0.   -0.j     0.   +0.j\n",
      "  -0.   +0.j    -0.   -0.j    -0.   -0.j    -0.   +0.j     0.   +0.j\n",
      "  -0.   +0.j   ]\n",
      " [-0.005-0.001j -0.02 +0.098j  0.97 +0.197j -0.02 +0.098j -0.004-0.001j\n",
      "   0.   -0.j     0.   +0.j    -0.   +0.j    -0.   -0.j     0.   -0.j\n",
      "   0.   +0.j    -0.   +0.j    -0.   +0.j     0.   +0.j    -0.   +0.j\n",
      "  -0.   -0.j   ]\n",
      " [ 0.   -0.j    -0.004-0.001j -0.02 +0.098j  0.97 +0.197j -0.02 +0.098j\n",
      "  -0.005-0.001j  0.   -0.j     0.   +0.j    -0.   +0.j    -0.   -0.j\n",
      "   0.   -0.j     0.   +0.j     0.   +0.j    -0.   +0.j    -0.   -0.j\n",
      "   0.   -0.j   ]\n",
      " [ 0.   +0.j     0.   -0.j    -0.005-0.001j -0.02 +0.098j  0.97 +0.197j\n",
      "  -0.02 +0.098j -0.004-0.001j  0.   -0.j     0.   +0.j    -0.   +0.j\n",
      "  -0.   -0.j     0.   -0.j     0.   +0.j    -0.   +0.j    -0.   -0.j\n",
      "   0.   -0.j   ]\n",
      " [-0.   +0.j     0.   +0.j     0.   -0.j    -0.004-0.001j -0.02 +0.098j\n",
      "   0.97 +0.197j -0.02 +0.098j -0.005-0.001j  0.   -0.j     0.   +0.j\n",
      "  -0.   +0.j    -0.   -0.j     0.   -0.j     0.   +0.j    -0.   +0.j\n",
      "  -0.   -0.j   ]\n",
      " [-0.   -0.j    -0.   +0.j     0.   +0.j     0.   -0.j    -0.005-0.001j\n",
      "  -0.02 +0.098j  0.97 +0.197j -0.02 +0.098j -0.004-0.001j  0.   -0.j\n",
      "   0.   +0.j    -0.   +0.j    -0.   -0.j     0.   -0.j     0.   +0.j\n",
      "  -0.   +0.j   ]\n",
      " [ 0.   -0.j    -0.   -0.j    -0.   +0.j     0.   +0.j     0.   -0.j\n",
      "  -0.004-0.001j -0.02 +0.098j  0.97 +0.197j -0.02 +0.098j -0.005-0.001j\n",
      "   0.   -0.j     0.   +0.j    -0.   +0.j    -0.   -0.j     0.   -0.j\n",
      "   0.   +0.j   ]\n",
      " [ 0.   +0.j     0.   -0.j    -0.   -0.j    -0.   +0.j     0.   +0.j\n",
      "   0.   -0.j    -0.005-0.001j -0.02 +0.098j  0.97 +0.197j -0.02 +0.098j\n",
      "  -0.004-0.001j  0.   -0.j     0.   +0.j    -0.   +0.j    -0.   -0.j\n",
      "   0.   -0.j   ]\n",
      " [-0.   +0.j     0.   +0.j     0.   -0.j    -0.   -0.j    -0.   +0.j\n",
      "   0.   +0.j     0.   -0.j    -0.004-0.001j -0.02 +0.098j  0.97 +0.197j\n",
      "  -0.02 +0.098j -0.005-0.001j  0.   -0.j     0.   +0.j    -0.   +0.j\n",
      "  -0.   -0.j   ]\n",
      " [-0.   -0.j    -0.   +0.j     0.   +0.j     0.   -0.j    -0.   -0.j\n",
      "  -0.   +0.j     0.   +0.j     0.   -0.j    -0.005-0.001j -0.02 +0.098j\n",
      "   0.97 +0.197j -0.02 +0.098j -0.004-0.001j  0.   -0.j     0.   +0.j\n",
      "  -0.   +0.j   ]\n",
      " [ 0.   -0.j    -0.   -0.j    -0.   +0.j     0.   +0.j     0.   -0.j\n",
      "  -0.   -0.j    -0.   +0.j     0.   +0.j     0.   -0.j    -0.004-0.001j\n",
      "  -0.02 +0.098j  0.97 +0.197j -0.02 +0.098j -0.005-0.001j  0.   -0.j\n",
      "   0.   +0.j   ]\n",
      " [-0.   +0.j     0.   +0.j    -0.   -0.j    -0.   +0.j     0.   +0.j\n",
      "   0.   -0.j    -0.   -0.j    -0.   +0.j     0.   +0.j     0.   -0.j\n",
      "  -0.005-0.001j -0.02 +0.098j  0.97 +0.197j -0.02 +0.098j -0.004-0.001j\n",
      "   0.   -0.j   ]\n",
      " [ 0.   +0.j     0.   -0.j    -0.   -0.j     0.   -0.j    -0.   +0.j\n",
      "   0.   +0.j     0.   -0.j    -0.   -0.j    -0.   +0.j     0.   +0.j\n",
      "   0.   -0.j    -0.004-0.001j -0.02 +0.098j  0.97 +0.197j -0.02 +0.098j\n",
      "  -0.005-0.001j]\n",
      " [ 0.   -0.j    -0.   -0.j     0.   -0.j     0.   +0.j    -0.   -0.j\n",
      "  -0.   +0.j     0.   +0.j     0.   -0.j    -0.   -0.j    -0.   +0.j\n",
      "   0.   +0.j     0.   -0.j    -0.005-0.001j -0.02 +0.098j  0.97 +0.197j\n",
      "  -0.02 +0.098j]\n",
      " [-0.   -0.j     0.   -0.j     0.   +0.j    -0.   +0.j     0.   -0.j\n",
      "  -0.   -0.j    -0.   +0.j     0.   +0.j     0.   -0.j    -0.   -0.j\n",
      "  -0.   +0.j     0.   +0.j     0.   -0.j    -0.004-0.001j -0.02 +0.098j\n",
      "   0.975+0.198j]]\n"
     ]
    }
   ],
   "source": [
    "print(np.around(trotter_solution,3))"
   ]
  },
  {
   "cell_type": "code",
   "execution_count": 76,
   "id": "be9b343d",
   "metadata": {},
   "outputs": [],
   "source": [
    "from qiskit.quantum_info import Operator\n"
   ]
  },
  {
   "cell_type": "code",
   "execution_count": 77,
   "id": "bdbb8ebb",
   "metadata": {
    "scrolled": false
   },
   "outputs": [
    {
     "data": {
      "text/plain": [
       "array([[ 0.975+0.198j, -0.02 +0.098j, -0.004-0.001j,  0.   -0.j   ,\n",
       "         0.   +0.j   , -0.   +0.j   , -0.   -0.j   ,  0.   -0.j   ,\n",
       "         0.   +0.j   , -0.   +0.j   , -0.   -0.j   ,  0.   -0.j   ,\n",
       "         0.   +0.j   ,  0.   +0.j   ,  0.   -0.j   , -0.   +0.j   ],\n",
       "       [-0.02 +0.098j,  0.97 +0.197j, -0.02 +0.098j, -0.005-0.001j,\n",
       "         0.   -0.j   ,  0.   +0.j   , -0.   +0.j   , -0.   -0.j   ,\n",
       "         0.   -0.j   ,  0.   +0.j   , -0.   +0.j   , -0.   -0.j   ,\n",
       "         0.   -0.j   , -0.   -0.j   , -0.   +0.j   , -0.   +0.j   ],\n",
       "       [-0.005-0.001j, -0.02 +0.098j,  0.97 +0.197j, -0.02 +0.098j,\n",
       "        -0.004-0.001j,  0.   -0.j   ,  0.   +0.j   , -0.   +0.j   ,\n",
       "        -0.   -0.j   ,  0.   -0.j   ,  0.   +0.j   , -0.   +0.j   ,\n",
       "        -0.   -0.j   ,  0.   +0.j   , -0.   -0.j   , -0.   -0.j   ],\n",
       "       [ 0.   -0.j   , -0.004-0.001j, -0.02 +0.098j,  0.97 +0.197j,\n",
       "        -0.02 +0.098j, -0.005-0.001j,  0.   -0.j   ,  0.   +0.j   ,\n",
       "        -0.   +0.j   , -0.   -0.j   ,  0.   -0.j   ,  0.   +0.j   ,\n",
       "        -0.   +0.j   , -0.   -0.j   ,  0.   -0.j   ,  0.   +0.j   ],\n",
       "       [ 0.   +0.j   ,  0.   -0.j   , -0.005-0.001j, -0.02 +0.098j,\n",
       "         0.97 +0.197j, -0.02 +0.098j, -0.004-0.001j,  0.   -0.j   ,\n",
       "         0.   +0.j   , -0.   +0.j   , -0.   -0.j   ,  0.   -0.j   ,\n",
       "         0.   +0.j   , -0.   +0.j   , -0.   -0.j   ,  0.   -0.j   ],\n",
       "       [-0.   +0.j   ,  0.   +0.j   ,  0.   -0.j   , -0.004-0.001j,\n",
       "        -0.02 +0.098j,  0.97 +0.197j, -0.02 +0.098j, -0.005-0.001j,\n",
       "         0.   -0.j   ,  0.   +0.j   , -0.   +0.j   , -0.   -0.j   ,\n",
       "         0.   -0.j   ,  0.   +0.j   , -0.   +0.j   , -0.   -0.j   ],\n",
       "       [-0.   -0.j   , -0.   +0.j   ,  0.   +0.j   ,  0.   -0.j   ,\n",
       "        -0.005-0.001j, -0.02 +0.098j,  0.97 +0.197j, -0.02 +0.098j,\n",
       "        -0.004-0.001j,  0.   -0.j   ,  0.   +0.j   , -0.   +0.j   ,\n",
       "        -0.   -0.j   ,  0.   -0.j   ,  0.   +0.j   , -0.   +0.j   ],\n",
       "       [ 0.   -0.j   , -0.   -0.j   , -0.   +0.j   ,  0.   +0.j   ,\n",
       "         0.   -0.j   , -0.004-0.001j, -0.02 +0.098j,  0.97 +0.197j,\n",
       "        -0.02 +0.098j, -0.005-0.001j,  0.   -0.j   ,  0.   +0.j   ,\n",
       "        -0.   +0.j   , -0.   -0.j   ,  0.   -0.j   ,  0.   +0.j   ],\n",
       "       [ 0.   +0.j   ,  0.   -0.j   , -0.   -0.j   , -0.   +0.j   ,\n",
       "         0.   +0.j   ,  0.   -0.j   , -0.005-0.001j, -0.02 +0.098j,\n",
       "         0.97 +0.197j, -0.02 +0.098j, -0.004-0.001j,  0.   -0.j   ,\n",
       "         0.   +0.j   , -0.   +0.j   , -0.   -0.j   ,  0.   -0.j   ],\n",
       "       [-0.   +0.j   ,  0.   +0.j   ,  0.   -0.j   , -0.   -0.j   ,\n",
       "        -0.   +0.j   ,  0.   +0.j   ,  0.   -0.j   , -0.004-0.001j,\n",
       "        -0.02 +0.098j,  0.97 +0.197j, -0.02 +0.098j, -0.005-0.001j,\n",
       "         0.   -0.j   ,  0.   +0.j   , -0.   +0.j   , -0.   -0.j   ],\n",
       "       [-0.   -0.j   , -0.   +0.j   ,  0.   +0.j   ,  0.   -0.j   ,\n",
       "        -0.   -0.j   , -0.   +0.j   ,  0.   +0.j   ,  0.   -0.j   ,\n",
       "        -0.005-0.001j, -0.02 +0.098j,  0.97 +0.197j, -0.02 +0.098j,\n",
       "        -0.004-0.001j,  0.   -0.j   ,  0.   +0.j   , -0.   +0.j   ],\n",
       "       [ 0.   -0.j   , -0.   -0.j   , -0.   +0.j   ,  0.   +0.j   ,\n",
       "         0.   -0.j   , -0.   -0.j   , -0.   +0.j   ,  0.   +0.j   ,\n",
       "         0.   -0.j   , -0.004-0.001j, -0.02 +0.098j,  0.97 +0.197j,\n",
       "        -0.02 +0.098j, -0.005-0.001j,  0.   -0.j   ,  0.   +0.j   ],\n",
       "       [ 0.   +0.j   ,  0.   -0.j   , -0.   -0.j   , -0.   +0.j   ,\n",
       "         0.   +0.j   ,  0.   -0.j   , -0.   -0.j   , -0.   +0.j   ,\n",
       "         0.   +0.j   ,  0.   -0.j   , -0.005-0.001j, -0.02 +0.098j,\n",
       "         0.97 +0.197j, -0.02 +0.098j, -0.004-0.001j,  0.   -0.j   ],\n",
       "       [-0.   -0.j   , -0.   -0.j   , -0.   +0.j   , -0.   -0.j   ,\n",
       "        -0.   +0.j   ,  0.   +0.j   ,  0.   -0.j   , -0.   -0.j   ,\n",
       "        -0.   +0.j   ,  0.   +0.j   ,  0.   -0.j   , -0.004-0.001j,\n",
       "        -0.02 +0.098j,  0.97 +0.197j, -0.02 +0.098j, -0.005-0.001j],\n",
       "       [-0.   +0.j   , -0.   +0.j   , -0.   -0.j   ,  0.   -0.j   ,\n",
       "        -0.   -0.j   , -0.   +0.j   ,  0.   +0.j   ,  0.   -0.j   ,\n",
       "        -0.   -0.j   , -0.   +0.j   ,  0.   +0.j   ,  0.   -0.j   ,\n",
       "        -0.005-0.001j, -0.02 +0.098j,  0.97 +0.197j, -0.02 +0.098j],\n",
       "       [ 0.   +0.j   ,  0.   -0.j   ,  0.   +0.j   ,  0.   -0.j   ,\n",
       "         0.   -0.j   , -0.   -0.j   , -0.   +0.j   ,  0.   +0.j   ,\n",
       "         0.   -0.j   , -0.   -0.j   , -0.   +0.j   ,  0.   +0.j   ,\n",
       "         0.   -0.j   , -0.004-0.001j, -0.02 +0.098j,  0.975+0.198j]])"
      ]
     },
     "execution_count": 77,
     "metadata": {},
     "output_type": "execute_result"
    }
   ],
   "source": [
    "np.around(Operator(U_exp.reverse_bits()).data,3)"
   ]
  },
  {
   "cell_type": "code",
   "execution_count": null,
   "id": "9300f270",
   "metadata": {},
   "outputs": [],
   "source": []
  },
  {
   "cell_type": "code",
   "execution_count": null,
   "id": "ca1e6e6a",
   "metadata": {},
   "outputs": [],
   "source": []
  },
  {
   "cell_type": "code",
   "execution_count": null,
   "id": "d35edfb2",
   "metadata": {},
   "outputs": [],
   "source": []
  },
  {
   "cell_type": "code",
   "execution_count": 78,
   "id": "84db7dd2",
   "metadata": {},
   "outputs": [
    {
     "data": {
      "text/plain": [
       "array([[2., 1., 0., 0., 0., 0., 0., 0., 0., 0., 0., 0., 0., 0., 0., 0.],\n",
       "       [1., 2., 1., 0., 0., 0., 0., 0., 0., 0., 0., 0., 0., 0., 0., 0.],\n",
       "       [0., 1., 2., 1., 0., 0., 0., 0., 0., 0., 0., 0., 0., 0., 0., 0.],\n",
       "       [0., 0., 1., 2., 1., 0., 0., 0., 0., 0., 0., 0., 0., 0., 0., 0.],\n",
       "       [0., 0., 0., 1., 2., 1., 0., 0., 0., 0., 0., 0., 0., 0., 0., 0.],\n",
       "       [0., 0., 0., 0., 1., 2., 1., 0., 0., 0., 0., 0., 0., 0., 0., 0.],\n",
       "       [0., 0., 0., 0., 0., 1., 2., 1., 0., 0., 0., 0., 0., 0., 0., 0.],\n",
       "       [0., 0., 0., 0., 0., 0., 1., 2., 1., 0., 0., 0., 0., 0., 0., 0.],\n",
       "       [0., 0., 0., 0., 0., 0., 0., 1., 2., 1., 0., 0., 0., 0., 0., 0.],\n",
       "       [0., 0., 0., 0., 0., 0., 0., 0., 1., 2., 1., 0., 0., 0., 0., 0.],\n",
       "       [0., 0., 0., 0., 0., 0., 0., 0., 0., 1., 2., 1., 0., 0., 0., 0.],\n",
       "       [0., 0., 0., 0., 0., 0., 0., 0., 0., 0., 1., 2., 1., 0., 0., 0.],\n",
       "       [0., 0., 0., 0., 0., 0., 0., 0., 0., 0., 0., 1., 2., 1., 0., 0.],\n",
       "       [0., 0., 0., 0., 0., 0., 0., 0., 0., 0., 0., 0., 1., 2., 1., 0.],\n",
       "       [0., 0., 0., 0., 0., 0., 0., 0., 0., 0., 0., 0., 0., 1., 2., 1.],\n",
       "       [0., 0., 0., 0., 0., 0., 0., 0., 0., 0., 0., 0., 0., 0., 1., 2.]])"
      ]
     },
     "execution_count": 78,
     "metadata": {},
     "output_type": "execute_result"
    }
   ],
   "source": [
    "classical_matrix"
   ]
  },
  {
   "cell_type": "code",
   "execution_count": null,
   "id": "f6fd592c",
   "metadata": {},
   "outputs": [],
   "source": []
  },
  {
   "cell_type": "code",
   "execution_count": null,
   "id": "875cee54",
   "metadata": {},
   "outputs": [],
   "source": []
  },
  {
   "cell_type": "code",
   "execution_count": null,
   "id": "167b643a",
   "metadata": {},
   "outputs": [],
   "source": []
  },
  {
   "cell_type": "code",
   "execution_count": null,
   "id": "519dbe01",
   "metadata": {},
   "outputs": [],
   "source": []
  },
  {
   "cell_type": "code",
   "execution_count": null,
   "id": "7ff33732",
   "metadata": {},
   "outputs": [],
   "source": []
  }
 ],
 "metadata": {
  "kernelspec": {
   "display_name": "Python 3",
   "language": "python",
   "name": "python3"
  },
  "language_info": {
   "codemirror_mode": {
    "name": "ipython",
    "version": 3
   },
   "file_extension": ".py",
   "mimetype": "text/x-python",
   "name": "python",
   "nbconvert_exporter": "python",
   "pygments_lexer": "ipython3",
   "version": "3.8.8"
  }
 },
 "nbformat": 4,
 "nbformat_minor": 5
}
