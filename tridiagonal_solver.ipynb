{
 "cells": [
  {
   "cell_type": "code",
   "execution_count": null,
   "id": "f3d31100",
   "metadata": {},
   "outputs": [],
   "source": [
    "# Use the entire width of the screen if needed\n",
    "from IPython.core.display import display, HTML\n",
    "display(HTML(\"<style>.container { width:100% !important; }</style>\"))"
   ]
  },
  {
   "cell_type": "markdown",
   "id": "716fb220",
   "metadata": {},
   "source": [
    "---\n",
    "\n",
    "Here is a good resource explaining the details of choosing t and C for the Hamiltonian Simulation and the controlled rotation respectively.\n",
    "\n",
    "https://quantumcomputing.com/strangeworks/harrow-hassidim-lloyd-hhl-algorithm\n",
    "\n",
    "---"
   ]
  },
  {
   "cell_type": "code",
   "execution_count": 234,
   "id": "e5d06684",
   "metadata": {},
   "outputs": [],
   "source": [
    "# Reset the kernel if needed\n",
    "\n",
    "%reset -f"
   ]
  },
  {
   "cell_type": "code",
   "execution_count": 235,
   "id": "43e9703c",
   "metadata": {},
   "outputs": [],
   "source": [
    "# import the relevant libraries etc.\n",
    "# set up the environment\n",
    "\n",
    "from qiskit import *\n",
    "import numpy as np\n",
    "\n",
    "\n",
    "%matplotlib inline\n"
   ]
  },
  {
   "cell_type": "code",
   "execution_count": 236,
   "id": "40d7c481",
   "metadata": {},
   "outputs": [],
   "source": [
    "# Define the problem (the tridiagonal matrix that we are interested in solving)\n",
    "\n",
    "a = 1\n",
    "b = 1/2\n",
    "\n",
    "# Problem size\n",
    "n_w = 5"
   ]
  },
  {
   "cell_type": "code",
   "execution_count": 237,
   "id": "3fe8378d",
   "metadata": {},
   "outputs": [],
   "source": [
    "# Define the eigenvalue register\n",
    "n_l = 4"
   ]
  },
  {
   "cell_type": "code",
   "execution_count": 238,
   "id": "6753c50b",
   "metadata": {},
   "outputs": [],
   "source": [
    "# Define the Trotterization\n",
    "m = 1\n",
    "# The order of the Trotter formula that we are using (shoot for the moon)\n",
    "\n",
    "# Define the number of time steps we are taking\n",
    "n_t = 10\n",
    "t = 1\n",
    "dt = t/n_t"
   ]
  },
  {
   "cell_type": "code",
   "execution_count": 239,
   "id": "706122d3",
   "metadata": {},
   "outputs": [],
   "source": [
    "# Define the registers for the problem\n",
    "work_register = QuantumRegister(n_w,name='work')\n",
    "eigenvalue_register = QuantumRegister(n_l,name='eignvalue')\n",
    "ancilla = AncillaRegister(1,name='controlled_rotation')\n"
   ]
  },
  {
   "cell_type": "code",
   "execution_count": 240,
   "id": "3f489a0b",
   "metadata": {},
   "outputs": [],
   "source": [
    "# Define the initial state of the system\n",
    "# Implement this later after the unitary of the system is shown to be working fine\n",
    "\n"
   ]
  },
  {
   "cell_type": "code",
   "execution_count": 241,
   "id": "cb8c4b27",
   "metadata": {},
   "outputs": [],
   "source": [
    "# Make a seperate circuit for the unitary, later turn this whole thing into a circuit and \n",
    "# apply controlled versions of this\n",
    "\n",
    "unitary_circuit = QuantumCircuit(work_register,name='U')"
   ]
  },
  {
   "cell_type": "code",
   "execution_count": 242,
   "id": "f6285d86",
   "metadata": {},
   "outputs": [
    {
     "data": {
      "image/png": "[encoded data removed]",
      "text/plain": [
       "<Figure size 153.902x325.08 with 1 Axes>"
      ]
     },
     "execution_count": 242,
     "metadata": {},
     "output_type": "execute_result"
    }
   ],
   "source": [
    "unitary_circuit.draw(output='mpl')"
   ]
  },
  {
   "cell_type": "code",
   "execution_count": 243,
   "id": "cb04a8eb",
   "metadata": {},
   "outputs": [],
   "source": [
    "# Make seperate circuits for the different pieces H1 H2 etc\n",
    "\n",
    "H1_circuit = QuantumCircuit(work_register,name='H1')"
   ]
  },
  {
   "cell_type": "code",
   "execution_count": 244,
   "id": "5af69fe7",
   "metadata": {},
   "outputs": [
    {
     "data": {
      "image/png": "[encoded data removed]",
      "text/plain": [
       "<Figure size 153.902x325.08 with 1 Axes>"
      ]
     },
     "execution_count": 244,
     "metadata": {},
     "output_type": "execute_result"
    }
   ],
   "source": [
    "H1_circuit.draw(output='mpl')"
   ]
  },
  {
   "cell_type": "code",
   "execution_count": 245,
   "id": "ec37fe4a",
   "metadata": {},
   "outputs": [
    {
     "data": {
      "image/png": "[encoded data removed]",
      "text/plain": [
       "<Figure size 364.602x325.08 with 1 Axes>"
      ]
     },
     "execution_count": 245,
     "metadata": {},
     "output_type": "execute_result"
    }
   ],
   "source": [
    "H1_circuit.x(n_w-1)\n",
    "H1_circuit.p(a*t,n_w-1)\n",
    "H1_circuit.x(n_w-1)\n",
    "H1_circuit.p(a*t,n_w-1)\n",
    "H1_circuit.draw(output='mpl')\n"
   ]
  },
  {
   "cell_type": "code",
   "execution_count": 246,
   "id": "215a6f27",
   "metadata": {},
   "outputs": [],
   "source": [
    "H2_circuit = QuantumCircuit(work_register,name='H2')"
   ]
  },
  {
   "cell_type": "code",
   "execution_count": 247,
   "id": "a7af20f0",
   "metadata": {},
   "outputs": [
    {
     "data": {
      "image/png": "[encoded data removed]",
      "text/plain": [
       "<Figure size 184.002x325.08 with 1 Axes>"
      ]
     },
     "execution_count": 247,
     "metadata": {},
     "output_type": "execute_result"
    }
   ],
   "source": [
    "H2_circuit.rx(-2*b*dt,n_w-1)\n",
    "H2_circuit.draw(output='mpl')"
   ]
  },
  {
   "cell_type": "code",
   "execution_count": 248,
   "id": "276b3760",
   "metadata": {},
   "outputs": [],
   "source": [
    "H3_circuit = QuantumCircuit(work_register,name='H3')"
   ]
  },
  {
   "cell_type": "code",
   "execution_count": 249,
   "id": "b0788d44",
   "metadata": {},
   "outputs": [
    {
     "name": "stdout",
     "output_type": "stream",
     "text": [
      "1\n",
      "[0, 1]\n",
      "2\n",
      "[0, 2, 1]\n",
      "3\n",
      "[0, 2, 3, 1]\n",
      "4\n",
      "[0, 2, 3, 4, 1]\n"
     ]
    }
   ],
   "source": [
    "# H3 is made up of a bunch of C circuits\n",
    "C_circuits = []\n",
    "\n",
    "# We need to make a multi-controlled RX gate for each C\n",
    "from qiskit.circuit.library.standard_gates import RXGate\n",
    "\n",
    "\n",
    "for _C in range(1,n_w):\n",
    "    _C_circuit = QuantumCircuit(work_register[-1-_C:],name='C{}'.format(_C))\n",
    "    _C_circuit.cnot(1,0,ctrl_state=1)\n",
    "    for _target in range(2,_C+1):\n",
    "        _C_circuit.cnot(1,_target,ctrl_state=0)\n",
    "    # Create the multi controlled Rx gate\n",
    "    #if (_C-2)>=1:\n",
    "    #    _rx_gate = RXGate(-2*b*dt).control(_C-2)\n",
    "    #    _C_circuit.append(_rx_gate,[])\n",
    "    _rx_gate = RXGate(-2*b*dt).control(_C)\n",
    "    _controls_targets = [_x for _x in range(_C+1) if _x != 1]\n",
    "    _controls_targets.append(1)\n",
    "    print(_C)\n",
    "    print(_controls_targets)\n",
    "    _C_circuit.append(_rx_gate,_controls_targets)\n",
    "\n",
    "\n",
    "        \n",
    "    \n",
    "    for _target in reversed(range(2,_C+1)):\n",
    "        _C_circuit.cnot(1,_target,ctrl_state=0)\n",
    "    _C_circuit.cnot(1,0,ctrl_state=1)\n",
    "    C_circuits.append(_C_circuit)\n"
   ]
  },
  {
   "cell_type": "code",
   "execution_count": 250,
   "id": "2474b124",
   "metadata": {},
   "outputs": [
    {
     "data": {
      "image/png": "[encoded data removed]",
      "text/plain": [
       "<Figure size 615.271x325.08 with 1 Axes>"
      ]
     },
     "execution_count": 250,
     "metadata": {},
     "output_type": "execute_result"
    }
   ],
   "source": [
    "C_circuits[3].draw(output='mpl')"
   ]
  },
  {
   "cell_type": "code",
   "execution_count": 251,
   "id": "25902307",
   "metadata": {},
   "outputs": [],
   "source": [
    "# Convert the C circuits to gates\n"
   ]
  },
  {
   "cell_type": "code",
   "execution_count": 252,
   "id": "f1d08e51",
   "metadata": {},
   "outputs": [
    {
     "name": "stderr",
     "output_type": "stream",
     "text": [
      "<ipython-input-252-a6ce200502ed>:4: DeprecationWarning: The QuantumCircuit.__add__() method is being deprecated.Use the compose() method which is more flexible w.r.t circuit register compatibility.\n",
      "  H3_circuit = H3_circuit + _C\n"
     ]
    }
   ],
   "source": [
    "# Append the C circuits to the overall H3 circuit\n",
    "H3_circuit.barrier()\n",
    "for _C in C_circuits:\n",
    "    H3_circuit = H3_circuit + _C\n",
    "    H3_circuit.barrier()\n"
   ]
  },
  {
   "cell_type": "code",
   "execution_count": 253,
   "id": "4e6f6814",
   "metadata": {},
   "outputs": [],
   "source": []
  },
  {
   "cell_type": "code",
   "execution_count": 254,
   "id": "1920980d",
   "metadata": {},
   "outputs": [
    {
     "data": {
      "text/html": [
       "<pre style=\"word-wrap: normal;white-space: pre;background: #fff0;line-height: 1.1;font-family: &quot;Courier New&quot;,Courier,monospace\">         ░                        ░                                  ░      »\n",
       "work_0: ─░────────────────────────░──────────────────────────────────░──────»\n",
       "         ░                        ░                                  ░ ┌───┐»\n",
       "work_1: ─░────────────────────────░──────────────────────────────────░─┤ X ├»\n",
       "         ░                        ░ ┌───┐                      ┌───┐ ░ └─┬─┘»\n",
       "work_2: ─░────────────────────────░─┤ X ├──────────■───────────┤ X ├─░───■──»\n",
       "         ░ ┌───┐            ┌───┐ ░ └─┬─┘     ┌────┴─────┐     └─┬─┘ ░      »\n",
       "work_3: ─░─┤ X ├─────■──────┤ X ├─░───■────o──┤ Rx(-0.1) ├──o────■───░──────»\n",
       "         ░ └─┬─┘┌────┴─────┐└─┬─┘ ░      ┌─┴─┐└────┬─────┘┌─┴─┐      ░      »\n",
       "work_4: ─░───■──┤ Rx(-0.1) ├──■───░──────┤ X ├─────■──────┤ X ├──────░──────»\n",
       "         ░      └──────────┘      ░      └───┘            └───┘      ░      »\n",
       "«                                              ░ ┌───┐               »\n",
       "«work_0: ──────────────────────────────────────░─┤ X ├───────────────»\n",
       "«                                        ┌───┐ ░ └─┬─┘               »\n",
       "«work_1: ───────────────■────────────────┤ X ├─░───■────o────o────o──»\n",
       "«                  ┌────┴─────┐          └─┬─┘ ░      ┌─┴─┐  │    │  »\n",
       "«work_2: ──o────o──┤ Rx(-0.1) ├──o────o────■───░──────┤ X ├──┼────┼──»\n",
       "«        ┌─┴─┐  │  └────┬─────┘  │  ┌─┴─┐      ░      └───┘┌─┴─┐  │  »\n",
       "«work_3: ┤ X ├──┼───────■────────┼──┤ X ├──────░───────────┤ X ├──┼──»\n",
       "«        └───┘┌─┴─┐     │      ┌─┴─┐└───┘      ░           └───┘┌─┴─┐»\n",
       "«work_4: ─────┤ X ├─────■──────┤ X ├───────────░────────────────┤ X ├»\n",
       "«             └───┘            └───┘           ░                └───┘»\n",
       "«                                   ┌───┐ ░  ░ ┌───┐                      ┌───┐\n",
       "«work_0: ─────■─────────────────────┤ X ├─░──░─┤ X ├──────────■───────────┤ X ├\n",
       "«        ┌────┴─────┐               └─┬─┘ ░  ░ └─┬─┘     ┌────┴─────┐     └─┬─┘\n",
       "«work_1: ┤ Rx(-0.1) ├──o────o────o────■───░──░───■────o──┤ Rx(-0.1) ├──o────■──\n",
       "«        └────┬─────┘  │    │  ┌─┴─┐      ░  ░      ┌─┴─┐└────┬─────┘┌─┴─┐     \n",
       "«work_2: ─────■────────┼────┼──┤ X ├──────░──░──────┤ X ├─────■──────┤ X ├─────\n",
       "«             │        │  ┌─┴─┐└───┘      ░  ░      └───┘            └───┘     \n",
       "«work_3: ─────■────────┼──┤ X ├───────────░──░─────────────────────────────────\n",
       "«             │      ┌─┴─┐└───┘           ░  ░                                 \n",
       "«work_4: ─────■──────┤ X ├────────────────░──░─────────────────────────────────\n",
       "«                    └───┘                ░  ░                                 </pre>"
      ],
      "text/plain": [
       "         ░                        ░                                  ░      »\n",
       "work_0: ─░────────────────────────░──────────────────────────────────░──────»\n",
       "         ░                        ░                                  ░ ┌───┐»\n",
       "work_1: ─░────────────────────────░──────────────────────────────────░─┤ X ├»\n",
       "         ░                        ░ ┌───┐                      ┌───┐ ░ └─┬─┘»\n",
       "work_2: ─░────────────────────────░─┤ X ├──────────■───────────┤ X ├─░───■──»\n",
       "         ░ ┌───┐            ┌───┐ ░ └─┬─┘     ┌────┴─────┐     └─┬─┘ ░      »\n",
       "work_3: ─░─┤ X ├─────■──────┤ X ├─░───■────o──┤ Rx(-0.1) ├──o────■───░──────»\n",
       "         ░ └─┬─┘┌────┴─────┐└─┬─┘ ░      ┌─┴─┐└────┬─────┘┌─┴─┐      ░      »\n",
       "work_4: ─░───■──┤ Rx(-0.1) ├──■───░──────┤ X ├─────■──────┤ X ├──────░──────»\n",
       "         ░      └──────────┘      ░      └───┘            └───┘      ░      »\n",
       "«                                              ░ ┌───┐               »\n",
       "«work_0: ──────────────────────────────────────░─┤ X ├───────────────»\n",
       "«                                        ┌───┐ ░ └─┬─┘               »\n",
       "«work_1: ───────────────■────────────────┤ X ├─░───■────o────o────o──»\n",
       "«                  ┌────┴─────┐          └─┬─┘ ░      ┌─┴─┐  │    │  »\n",
       "«work_2: ──o────o──┤ Rx(-0.1) ├──o────o────■───░──────┤ X ├──┼────┼──»\n",
       "«        ┌─┴─┐  │  └────┬─────┘  │  ┌─┴─┐      ░      └───┘┌─┴─┐  │  »\n",
       "«work_3: ┤ X ├──┼───────■────────┼──┤ X ├──────░───────────┤ X ├──┼──»\n",
       "«        └───┘┌─┴─┐     │      ┌─┴─┐└───┘      ░           └───┘┌─┴─┐»\n",
       "«work_4: ─────┤ X ├─────■──────┤ X ├───────────░────────────────┤ X ├»\n",
       "«             └───┘            └───┘           ░                └───┘»\n",
       "«                                   ┌───┐ ░  ░ ┌───┐                      ┌───┐\n",
       "«work_0: ─────■─────────────────────┤ X ├─░──░─┤ X ├──────────■───────────┤ X ├\n",
       "«        ┌────┴─────┐               └─┬─┘ ░  ░ └─┬─┘     ┌────┴─────┐     └─┬─┘\n",
       "«work_1: ┤ Rx(-0.1) ├──o────o────o────■───░──░───■────o──┤ Rx(-0.1) ├──o────■──\n",
       "«        └────┬─────┘  │    │  ┌─┴─┐      ░  ░      ┌─┴─┐└────┬─────┘┌─┴─┐     \n",
       "«work_2: ─────■────────┼────┼──┤ X ├──────░──░──────┤ X ├─────■──────┤ X ├─────\n",
       "«             │        │  ┌─┴─┐└───┘      ░  ░      └───┘            └───┘     \n",
       "«work_3: ─────■────────┼──┤ X ├───────────░──░─────────────────────────────────\n",
       "«             │      ┌─┴─┐└───┘           ░  ░                                 \n",
       "«work_4: ─────■──────┤ X ├────────────────░──░─────────────────────────────────\n",
       "«                    └───┘                ░  ░                                 "
      ]
     },
     "execution_count": 254,
     "metadata": {},
     "output_type": "execute_result"
    }
   ],
   "source": [
    "H3_circuit.draw()"
   ]
  },
  {
   "cell_type": "code",
   "execution_count": null,
   "id": "71207435",
   "metadata": {},
   "outputs": [],
   "source": []
  },
  {
   "cell_type": "code",
   "execution_count": null,
   "id": "04a68e74",
   "metadata": {},
   "outputs": [],
   "source": []
  },
  {
   "cell_type": "code",
   "execution_count": null,
   "id": "0823a943",
   "metadata": {},
   "outputs": [],
   "source": []
  }
 ],
 "metadata": {
  "kernelspec": {
   "display_name": "Python 3",
   "language": "python",
   "name": "python3"
  },
  "language_info": {
   "codemirror_mode": {
    "name": "ipython",
    "version": 3
   },
   "file_extension": ".py",
   "mimetype": "text/x-python",
   "name": "python",
   "nbconvert_exporter": "python",
   "pygments_lexer": "ipython3",
   "version": "3.8.8"
  }
 },
 "nbformat": 4,
 "nbformat_minor": 5
}
