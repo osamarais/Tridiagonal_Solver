{
 "cells": [
  {
   "cell_type": "code",
   "execution_count": null,
   "id": "f3d31100",
   "metadata": {},
   "outputs": [],
   "source": [
    "# Use the entire width of the screen if needed\n",
    "from IPython.core.display import display, HTML\n",
    "display(HTML(\"<style>.container { width:100% !important; }</style>\"))"
   ]
  },
  {
   "cell_type": "markdown",
   "id": "716fb220",
   "metadata": {},
   "source": [
    "---\n",
    "\n",
    "Here is a good resource explaining the details of choosing t and C for the Hamiltonian Simulation and the controlled rotation respectively.\n",
    "\n",
    "https://quantumcomputing.com/strangeworks/harrow-hassidim-lloyd-hhl-algorithm\n",
    "\n",
    "---"
   ]
  },
  {
   "cell_type": "code",
   "execution_count": 17,
   "id": "e5d06684",
   "metadata": {},
   "outputs": [],
   "source": [
    "# Reset the kernel if needed\n",
    "\n",
    "%reset -f"
   ]
  },
  {
   "cell_type": "code",
   "execution_count": 18,
   "id": "43e9703c",
   "metadata": {},
   "outputs": [],
   "source": [
    "# import the relevant libraries etc.\n",
    "# set up the environment\n",
    "\n",
    "from qiskit import *\n",
    "import numpy as np\n",
    "\n",
    "\n",
    "%matplotlib inline\n"
   ]
  },
  {
   "cell_type": "code",
   "execution_count": 19,
   "id": "40d7c481",
   "metadata": {},
   "outputs": [],
   "source": [
    "# Define the problem (the tridiagonal matrix that we are interested in solving)\n",
    "\n",
    "a = 1\n",
    "b = 1/2\n",
    "\n",
    "# Problem size\n",
    "n_w = 5"
   ]
  },
  {
   "cell_type": "code",
   "execution_count": 20,
   "id": "3fe8378d",
   "metadata": {},
   "outputs": [],
   "source": [
    "# Define the eigenvalue register\n",
    "n_l = 4"
   ]
  },
  {
   "cell_type": "code",
   "execution_count": 21,
   "id": "6753c50b",
   "metadata": {},
   "outputs": [],
   "source": [
    "# Define the Trotterization\n",
    "m = 1\n",
    "# The order of the Trotter formula that we are using (shoot for the moon)\n",
    "\n",
    "# Define the number of time steps we are taking\n",
    "n_t = 10\n",
    "t = 1\n",
    "dt = t/n_t"
   ]
  },
  {
   "cell_type": "code",
   "execution_count": 22,
   "id": "706122d3",
   "metadata": {},
   "outputs": [],
   "source": [
    "# Define the registers for the problem\n",
    "work_register = QuantumRegister(n_w,name='work')\n",
    "eigenvalue_register = QuantumRegister(n_l,name='eignvalue')\n",
    "ancilla = AncillaRegister(1,name='controlled_rotation')\n"
   ]
  },
  {
   "cell_type": "code",
   "execution_count": 23,
   "id": "3f489a0b",
   "metadata": {},
   "outputs": [],
   "source": [
    "# Define the initial state of the system\n",
    "# Implement this later after the unitary of the system is shown to be working fine\n",
    "\n"
   ]
  },
  {
   "cell_type": "code",
   "execution_count": 24,
   "id": "cb8c4b27",
   "metadata": {},
   "outputs": [],
   "source": [
    "# Make a seperate circuit for the unitary, later turn this whole thing into a circuit and \n",
    "# apply controlled versions of this\n",
    "\n",
    "unitary_circuit = QuantumCircuit(work_register,name='U')"
   ]
  },
  {
   "cell_type": "code",
   "execution_count": 25,
   "id": "f6285d86",
   "metadata": {},
   "outputs": [
    {
     "data": {
      "image/png": "[encoded data removed]",
      "text/plain": [
       "<Figure size 153.902x325.08 with 1 Axes>"
      ]
     },
     "execution_count": 25,
     "metadata": {},
     "output_type": "execute_result"
    }
   ],
   "source": [
    "unitary_circuit.draw(output='mpl')"
   ]
  },
  {
   "cell_type": "code",
   "execution_count": 26,
   "id": "cb04a8eb",
   "metadata": {},
   "outputs": [],
   "source": [
    "H1_circuit = QuantumCircuit(work_register,name='H1')"
   ]
  },
  {
   "cell_type": "code",
   "execution_count": 27,
   "id": "5af69fe7",
   "metadata": {},
   "outputs": [
    {
     "data": {
      "image/png": "[encoded data removed]",
      "text/plain": [
       "<Figure size 153.902x325.08 with 1 Axes>"
      ]
     },
     "execution_count": 27,
     "metadata": {},
     "output_type": "execute_result"
    }
   ],
   "source": [
    "H1_circuit.draw(output='mpl')"
   ]
  },
  {
   "cell_type": "code",
   "execution_count": 28,
   "id": "ec37fe4a",
   "metadata": {},
   "outputs": [
    {
     "data": {
      "image/png": "[encoded data removed]",
      "text/plain": [
       "<Figure size 364.602x325.08 with 1 Axes>"
      ]
     },
     "execution_count": 28,
     "metadata": {},
     "output_type": "execute_result"
    }
   ],
   "source": [
    "H1_circuit.x(n_w-1)\n",
    "H1_circuit.p(a*t,n_w-1)\n",
    "H1_circuit.x(n_w-1)\n",
    "H1_circuit.p(a*t,n_w-1)\n",
    "H1_circuit.draw(output='mpl')\n"
   ]
  },
  {
   "cell_type": "code",
   "execution_count": null,
   "id": "215a6f27",
   "metadata": {},
   "outputs": [],
   "source": []
  }
 ],
 "metadata": {
  "kernelspec": {
   "display_name": "Python 3",
   "language": "python",
   "name": "python3"
  },
  "language_info": {
   "codemirror_mode": {
    "name": "ipython",
    "version": 3
   },
   "file_extension": ".py",
   "mimetype": "text/x-python",
   "name": "python",
   "nbconvert_exporter": "python",
   "pygments_lexer": "ipython3",
   "version": "3.8.8"
  }
 },
 "nbformat": 4,
 "nbformat_minor": 5
}
