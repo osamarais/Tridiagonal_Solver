{
 "cells": [
  {
   "cell_type": "code",
   "execution_count": null,
   "id": "f3d31100",
   "metadata": {},
   "outputs": [],
   "source": [
    "# Use the entire width of the screen if needed\n",
    "from IPython.core.display import display, HTML\n",
    "display(HTML(\"<style>.container { width:100% !important; }</style>\"))"
   ]
  },
  {
   "cell_type": "markdown",
   "id": "716fb220",
   "metadata": {},
   "source": [
    "---\n",
    "\n",
    "Here is a good resource explaining the details of choosing t and C for the Hamiltonian Simulation and the controlled rotation respectively.\n",
    "\n",
    "https://quantumcomputing.com/strangeworks/harrow-hassidim-lloyd-hhl-algorithm\n",
    "\n",
    "---"
   ]
  },
  {
   "cell_type": "code",
   "execution_count": 92,
   "id": "e5d06684",
   "metadata": {},
   "outputs": [],
   "source": [
    "# Reset the kernel if needed\n",
    "\n",
    "%reset -f"
   ]
  },
  {
   "cell_type": "code",
   "execution_count": 93,
   "id": "43e9703c",
   "metadata": {},
   "outputs": [],
   "source": [
    "# import the relevant libraries etc.\n",
    "# set up the environment\n",
    "\n",
    "from qiskit import *\n",
    "import numpy as np\n",
    "\n",
    "\n",
    "%matplotlib inline\n"
   ]
  },
  {
   "cell_type": "code",
   "execution_count": 94,
   "id": "40d7c481",
   "metadata": {},
   "outputs": [],
   "source": [
    "# Define the problem (the tridiagonal matrix that we are interested in solving)\n",
    "\n",
    "a = 1\n",
    "b = 1/2\n",
    "\n",
    "# Problem size\n",
    "n_w = 5"
   ]
  },
  {
   "cell_type": "code",
   "execution_count": 95,
   "id": "3fe8378d",
   "metadata": {},
   "outputs": [],
   "source": [
    "# Define the eigenvalue register\n",
    "n_l = 4"
   ]
  },
  {
   "cell_type": "code",
   "execution_count": 96,
   "id": "6753c50b",
   "metadata": {},
   "outputs": [],
   "source": [
    "# Define the Trotterization\n",
    "m = 1\n",
    "# The order of the Trotter formula that we are using (shoot for the moon)\n",
    "\n",
    "# Define the number of time steps we are taking\n",
    "n_t = 10\n",
    "t = 1\n",
    "dt = t/n_t"
   ]
  },
  {
   "cell_type": "code",
   "execution_count": 97,
   "id": "706122d3",
   "metadata": {},
   "outputs": [],
   "source": [
    "# Define the registers for the problem\n",
    "work_register = QuantumRegister(n_w,name='work')\n",
    "eigenvalue_register = QuantumRegister(n_l,name='eignvalue')\n",
    "ancilla = AncillaRegister(1,name='controlled_rotation')\n"
   ]
  },
  {
   "cell_type": "code",
   "execution_count": 98,
   "id": "3f489a0b",
   "metadata": {},
   "outputs": [],
   "source": [
    "# Define the initial state of the system\n",
    "# Implement this later after the unitary of the system is shown to be working fine\n",
    "\n"
   ]
  },
  {
   "cell_type": "code",
   "execution_count": 99,
   "id": "cb8c4b27",
   "metadata": {},
   "outputs": [],
   "source": [
    "# Make a seperate circuit for the unitary, later turn this whole thing into a circuit and \n",
    "# apply controlled versions of this\n",
    "\n",
    "unitary_circuit = QuantumCircuit(work_register,name='U')"
   ]
  },
  {
   "cell_type": "code",
   "execution_count": 100,
   "id": "f6285d86",
   "metadata": {},
   "outputs": [
    {
     "data": {
      "image/png": "[encoded data removed]",
      "text/plain": [
       "<Figure size 153.902x325.08 with 1 Axes>"
      ]
     },
     "execution_count": 100,
     "metadata": {},
     "output_type": "execute_result"
    }
   ],
   "source": [
    "unitary_circuit.draw(output='mpl')"
   ]
  },
  {
   "cell_type": "code",
   "execution_count": 101,
   "id": "cb04a8eb",
   "metadata": {},
   "outputs": [],
   "source": [
    "# Make seperate circuits for the different pieces H1 H2 etc\n",
    "\n",
    "H1_circuit = QuantumCircuit(work_register,name='H1')"
   ]
  },
  {
   "cell_type": "code",
   "execution_count": 102,
   "id": "5af69fe7",
   "metadata": {},
   "outputs": [
    {
     "data": {
      "image/png": "[encoded data removed]",
      "text/plain": [
       "<Figure size 153.902x325.08 with 1 Axes>"
      ]
     },
     "execution_count": 102,
     "metadata": {},
     "output_type": "execute_result"
    }
   ],
   "source": [
    "H1_circuit.draw(output='mpl')"
   ]
  },
  {
   "cell_type": "code",
   "execution_count": 103,
   "id": "ec37fe4a",
   "metadata": {},
   "outputs": [
    {
     "data": {
      "image/png": "[encoded data removed]",
      "text/plain": [
       "<Figure size 364.602x325.08 with 1 Axes>"
      ]
     },
     "execution_count": 103,
     "metadata": {},
     "output_type": "execute_result"
    }
   ],
   "source": [
    "H1_circuit.x(n_w-1)\n",
    "H1_circuit.p(a*t,n_w-1)\n",
    "H1_circuit.x(n_w-1)\n",
    "H1_circuit.p(a*t,n_w-1)\n",
    "H1_circuit.draw(output='mpl')\n"
   ]
  },
  {
   "cell_type": "code",
   "execution_count": 104,
   "id": "215a6f27",
   "metadata": {},
   "outputs": [],
   "source": [
    "H2_circuit = QuantumCircuit(work_register,name='H2')"
   ]
  },
  {
   "cell_type": "code",
   "execution_count": 105,
   "id": "dc4b8079",
   "metadata": {},
   "outputs": [
    {
     "data": {
      "image/png": "[encoded data removed]",
      "text/plain": [
       "<Figure size 184.002x325.08 with 1 Axes>"
      ]
     },
     "execution_count": 105,
     "metadata": {},
     "output_type": "execute_result"
    }
   ],
   "source": [
    "H2_circuit.rx(-2*b*dt,n_w-1)\n",
    "H2_circuit.draw(output='mpl')"
   ]
  },
  {
   "cell_type": "code",
   "execution_count": 106,
   "id": "0e8eba49",
   "metadata": {},
   "outputs": [],
   "source": [
    "H3_circuit = QuantumCircuit(work_register,name='H3')"
   ]
  },
  {
   "cell_type": "code",
   "execution_count": 107,
   "id": "c2e9f67f",
   "metadata": {},
   "outputs": [],
   "source": [
    "# H3 is made up of a bunch of C circuits\n",
    "\n",
    "C_circuits = []\n",
    "\n",
    "for _C in range(1,n_w):\n",
    "    _C_circuit = QuantumCircuit(work_register[-1-_C:],name='C{}'.format(_C))\n",
    "    _C_circuit.cnot(1,0,ctrl_state=1)\n",
    "    for _target in range(2,_C+1):\n",
    "        _C_circuit.cnot(1,_target,ctrl_state=0)\n",
    "    # Create the multi controlled Rx gate\n",
    "    #if (_C-2)>=1:\n",
    "    #    _rx_gate = RXGate(-2*b*dt).control(_C-2)\n",
    "    #    _C_circuit.append(_rx_gate,[])\n",
    "        \n",
    "    \n",
    "    for _target in reversed(range(2,_C+1)):\n",
    "        _C_circuit.cnot(1,_target,ctrl_state=0)\n",
    "    _C_circuit.cnot(1,0,ctrl_state=1)\n",
    "    C_circuits.append(_C_circuit)\n"
   ]
  },
  {
   "cell_type": "code",
   "execution_count": 108,
   "id": "fc3245bf",
   "metadata": {},
   "outputs": [
    {
     "data": {
      "image/png": "[encoded data removed]",
      "text/plain": [
       "<Figure size 555.071x325.08 with 1 Axes>"
      ]
     },
     "execution_count": 108,
     "metadata": {},
     "output_type": "execute_result"
    }
   ],
   "source": [
    "C_circuits[3].draw(output='mpl')"
   ]
  }
 ],
 "metadata": {
  "kernelspec": {
   "display_name": "Python 3",
   "language": "python",
   "name": "python3"
  },
  "language_info": {
   "codemirror_mode": {
    "name": "ipython",
    "version": 3
   },
   "file_extension": ".py",
   "mimetype": "text/x-python",
   "name": "python",
   "nbconvert_exporter": "python",
   "pygments_lexer": "ipython3",
   "version": "3.8.8"
  }
 },
 "nbformat": 4,
 "nbformat_minor": 5
}
