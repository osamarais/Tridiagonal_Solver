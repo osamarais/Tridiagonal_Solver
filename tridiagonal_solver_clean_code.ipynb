{
 "cells": [
  {
   "cell_type": "code",
   "execution_count": null,
   "id": "5d1c2350",
   "metadata": {},
   "outputs": [],
   "source": [
    "# Use the entire width of the screen if needed\n",
    "from IPython.core.display import display, HTML\n",
    "display(HTML(\"<style>.container { width:100% !important; }</style>\"))"
   ]
  },
  {
   "cell_type": "markdown",
   "id": "bc302944",
   "metadata": {},
   "source": [
    "---\n",
    "\n",
    "Here is a good resource explaining the details of choosing t and C for the Hamiltonian Simulation and the controlled rotation respectively.\n",
    "\n",
    "https://quantumcomputing.com/strangeworks/harrow-hassidim-lloyd-hhl-algorithm\n",
    "\n",
    "---"
   ]
  },
  {
   "cell_type": "code",
   "execution_count": 18,
   "id": "74f87a65",
   "metadata": {},
   "outputs": [],
   "source": [
    "# Reset the kernel if needed\n",
    "\n",
    "%reset -f"
   ]
  },
  {
   "cell_type": "code",
   "execution_count": 19,
   "id": "8b96aa7e",
   "metadata": {},
   "outputs": [],
   "source": [
    "# import the relevant libraries etc.\n",
    "# set up the environment\n",
    "\n",
    "from qiskit import *\n",
    "import numpy as np\n",
    "\n",
    "\n",
    "%matplotlib inline\n",
    "\n"
   ]
  },
  {
   "cell_type": "code",
   "execution_count": 20,
   "id": "4aac920f",
   "metadata": {},
   "outputs": [],
   "source": [
    "# Define the problem (the tridiagonal matrix that we are interested in solving)\n",
    "\n",
    "a = 1\n",
    "b = 1/2\n",
    "\n",
    "# Problem size\n",
    "n_w = 3\n",
    "N_w = 2**n_w"
   ]
  },
  {
   "cell_type": "code",
   "execution_count": 21,
   "id": "84d810e5",
   "metadata": {},
   "outputs": [],
   "source": [
    "# make the tridiagonal matrix in classical form\n",
    "classical_matrix = np.zeros((N_w,N_w))\n",
    "for _i in range(N_w):\n",
    "    for _j in range(N_w):\n",
    "        if _i==_j:\n",
    "            classical_matrix[_i,_j]=a\n",
    "        if abs(_i-_j)==1:\n",
    "            classical_matrix[_i,_j]=b"
   ]
  },
  {
   "cell_type": "code",
   "execution_count": 22,
   "id": "b128d583",
   "metadata": {},
   "outputs": [
    {
     "name": "stdout",
     "output_type": "stream",
     "text": [
      "[[1.  0.5 0.  0.  0.  0.  0.  0. ]\n",
      " [0.5 1.  0.5 0.  0.  0.  0.  0. ]\n",
      " [0.  0.5 1.  0.5 0.  0.  0.  0. ]\n",
      " [0.  0.  0.5 1.  0.5 0.  0.  0. ]\n",
      " [0.  0.  0.  0.5 1.  0.5 0.  0. ]\n",
      " [0.  0.  0.  0.  0.5 1.  0.5 0. ]\n",
      " [0.  0.  0.  0.  0.  0.5 1.  0.5]\n",
      " [0.  0.  0.  0.  0.  0.  0.5 1. ]]\n"
     ]
    }
   ],
   "source": [
    "print(classical_matrix)"
   ]
  },
  {
   "cell_type": "code",
   "execution_count": 23,
   "id": "bec1a61a",
   "metadata": {},
   "outputs": [],
   "source": [
    "eigenvalues = np.linalg.eigvals(classical_matrix)"
   ]
  },
  {
   "cell_type": "code",
   "execution_count": 24,
   "id": "cfe96196",
   "metadata": {},
   "outputs": [
    {
     "name": "stdout",
     "output_type": "stream",
     "text": [
      "maximum: 1.939692620785909\n",
      "minimum: 0.06030737921409143\n",
      "kappa: 32.163437477526465\n"
     ]
    }
   ],
   "source": [
    "print('maximum: {}\\nminimum: {}\\nkappa: {}'.format(np.max(eigenvalues),np.min(eigenvalues),np.max(eigenvalues)/np.min(eigenvalues)))"
   ]
  },
  {
   "cell_type": "code",
   "execution_count": 25,
   "id": "85043167",
   "metadata": {},
   "outputs": [],
   "source": [
    "# Define the eigenvalue register\n",
    "n_l = 4"
   ]
  },
  {
   "cell_type": "code",
   "execution_count": 26,
   "id": "96120af1",
   "metadata": {},
   "outputs": [],
   "source": [
    "# Define the Trotterization\n",
    "m = 1\n",
    "# The order of the Trotter formula that we are using (shoot for the moon)\n",
    "\n",
    "# Define the number of time steps we are taking\n",
    "n_t = 10\n",
    "t = 1\n",
    "dt = t/n_t"
   ]
  },
  {
   "cell_type": "code",
   "execution_count": 27,
   "id": "1a47cc9e",
   "metadata": {},
   "outputs": [],
   "source": [
    "# Define the registers for the problem\n",
    "work_register = QuantumRegister(n_w,name='work')\n",
    "eigenvalue_register = QuantumRegister(n_l,name='eignvalue')\n",
    "ancilla = AncillaRegister(1,name='controlled_rotation')\n",
    "\n"
   ]
  },
  {
   "cell_type": "code",
   "execution_count": 28,
   "id": "01884399",
   "metadata": {},
   "outputs": [],
   "source": [
    "# Define the initial state of the system\n",
    "# Implement this later after the unitary of the system is shown to be working fine\n",
    "\n",
    "\n",
    "# Perhaps it is a good idea to pass the eigenvectors as the initial state and see if we recover the eigenvectors\n",
    "# at the output"
   ]
  },
  {
   "cell_type": "code",
   "execution_count": 29,
   "id": "ed78a7c8",
   "metadata": {},
   "outputs": [],
   "source": [
    "# Make a seperate circuit for the unitary, later turn this whole thing into a circuit and \n",
    "# apply controlled versions of this\n",
    "\n",
    "unitary_circuit = QuantumCircuit(work_register,name='U')"
   ]
  },
  {
   "cell_type": "code",
   "execution_count": 31,
   "id": "9bc6974d",
   "metadata": {},
   "outputs": [],
   "source": [
    "# Make a functions that return the different pieces of the hamiltonian (exponentiated) with the required amount\n",
    "# of Hamiltonian simulation (requested t)"
   ]
  },
  {
   "cell_type": "code",
   "execution_count": null,
   "id": "0b8a3bb3",
   "metadata": {},
   "outputs": [],
   "source": []
  }
 ],
 "metadata": {
  "kernelspec": {
   "display_name": "Python 3",
   "language": "python",
   "name": "python3"
  },
  "language_info": {
   "codemirror_mode": {
    "name": "ipython",
    "version": 3
   },
   "file_extension": ".py",
   "mimetype": "text/x-python",
   "name": "python",
   "nbconvert_exporter": "python",
   "pygments_lexer": "ipython3",
   "version": "3.8.8"
  }
 },
 "nbformat": 4,
 "nbformat_minor": 5
}
